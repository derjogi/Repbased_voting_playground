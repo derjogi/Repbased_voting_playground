{
 "cells": [
  {
   "cell_type": "code",
   "execution_count": null,
   "metadata": {},
   "outputs": [],
   "source": [
    "# Install required dependency on jupyter:\n",
    "%pip install pandas"
   ]
  },
  {
   "cell_type": "code",
   "execution_count": null,
   "metadata": {},
   "outputs": [],
   "source": [
    "# Initiate Definitions and Test data\n",
    "import Definitions as D\n",
    "import Testdata as T\n",
    "import Vote as V"
   ]
  },
  {
   "cell_type": "code",
   "execution_count": null,
   "metadata": {},
   "outputs": [],
   "source": [
    "# Create your voting scenario.\n",
    "# First, create some voters; you can use random samples or define them yourselves:\n",
    "# By default you'll get 100 voters that randomly vote for 4 different candidates.\n",
    "# Thereby the voters assign different weights to the candidates, which can be used as\n",
    "#  * one vote for the highest ranked candidate (if the voting algorithm allows only a single vote)\n",
    "#  * a weighted vote where each candidate receives a fraction of the voters 'power' according to the weights (if the voting algorithm allows weighted votes)\n",
    "#  * a ranking where each candidate gets sorted according to their weight (if the voting algorithm allows ranking)\n",
    "voters = T.getRandomVoters()\n",
    "\n",
    "# The alternative of specifying it yourself could look like the following, with C1/2/n being the name of a candidate, \n",
    "# and the weight being any positive number (including decimals). The highest number will always be the preferred candidate.\n",
    "# (Oh, but please don't mix it up like this, that just makes it super hard to read! (But theoretically possible))\n",
    "# voters = [\n",
    "#             D.Voter({'C1': 3, 'C2': 1, 'C3': 4, 'C4': 2}),    # (equal to D.Voter({'C1': 0.3, 'C2': 0.1, 'C3': 0.4, 'C4': 0.2}); C3 wins)\n",
    "#             D.Voter({'C1': 20, 'C2': 3, 'C3': 5, 'C4': 5}),   # (equal to D.Voter({'C1': 0.6, 'C2': 0.1, 'C3': 0.15, 'C4': 0.15}); C1 wins)\n",
    "#             D.Voter({'C1': 1, 'C2': 0.7, 'C3': 4, 'C4': 3}),  # ...\n",
    "#             D.Voter(['C2', 'C1', 'C3', 'C4'})                 # (equal to D.Voter({'C2': 0.4, 'C1': 0.3, 'C3': 0.2, 'C4': 0.1}); C2 wins)\n",
    "#         ]\n",
    "# You can also create voters that only vote for one candidate, which is equal to assigning a weight of '1' to that candidate, and '0' to all others.\n",
    "# single_candidate_voter = D.Voter('C1')  # (equal to D.Voter({'C1': 1, 'C2': 0, 'C3': 0, 'C4': 0})))"
   ]
  },
  {
   "cell_type": "code",
   "execution_count": null,
   "metadata": {},
   "outputs": [],
   "source": [
    "# Then bring the voters to the ballot with your preferred choice of voting algorithm:\n",
    "result = V.popularity_contest(voters)\n",
    "\n",
    "print(f'In the simple popularity contest, {next(iter(result.keys()))} wins!')\n",
    "print (f'Complete results: {result}')\n",
    "\n",
    "result = V.accumulated_scores_voting(voters)\n",
    "print('And with scoring, the winner iiiissssss ... 🥁🥁🥁 ...    ', next(iter(result.keys())))\n",
    "print (f'Complete results: {result}')\n",
    "\n",
    "# If your algorithm is not available, you can implement it here instead.\n",
    "# Example: (the same as accumulated_scores_voting above, but with a weighing mechanism for NFTs)\n",
    "#           Note that this is already implemented and can be called with `V.accumulated_scores_voting(voters, weighing_mechanism=my_custom_weighing_mechanism)`\n",
    "\n",
    "candidate_scores = {}\n",
    "\n",
    "def my_custom_weighing_mechanism(voter: D.Voter, id: str):\n",
    "    return voter.get_weight_for(id) * len(voter.nfts)\n",
    "\n",
    "for voter in voters:\n",
    "    for candidate, distribution in voter.get_distributed():\n",
    "        id = candidate.id\n",
    "        if id not in candidate_scores:\n",
    "            candidate_scores[id] = 0\n",
    "        candidate_scores[id] += my_custom_weighing_mechanism(voter, id)\n",
    "result = dict(sorted(candidate_scores.items(), key=lambda x: x[1], reverse=True))\n",
    "print('And the winner (of my custom implementation) iiiissssss ... 🥁🥁🥁 ...    ', next(iter(result.keys())))\n",
    "print (f'Complete results: {result}')\n"
   ]
  }
 ],
 "metadata": {
  "kernelspec": {
   "display_name": "Python 3",
   "language": "python",
   "name": "python3"
  },
  "language_info": {
   "codemirror_mode": {
    "name": "ipython",
    "version": 3
   },
   "file_extension": ".py",
   "mimetype": "text/x-python",
   "name": "python",
   "nbconvert_exporter": "python",
   "pygments_lexer": "ipython3",
   "version": "3.12.3"
  }
 },
 "nbformat": 4,
 "nbformat_minor": 2
}
